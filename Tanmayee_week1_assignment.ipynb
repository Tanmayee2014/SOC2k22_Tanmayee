{
  "nbformat": 4,
  "nbformat_minor": 0,
  "metadata": {
    "colab": {
      "name": "Tanmayee_week1_assignment",
      "provenance": []
    },
    "kernelspec": {
      "name": "python3",
      "display_name": "Python 3"
    },
    "language_info": {
      "name": "python"
    }
  },
  "cells": [
    {
      "cell_type": "code",
      "source": [
        "a=5\n",
        "b='Hello'\n",
        "\n",
        "#Print Class Type of a and b\n",
        "print('type a:',type(a),'\\ntype b:',type(b))"
      ],
      "metadata": {
        "colab": {
          "base_uri": "https://localhost:8080/"
        },
        "id": "urq-odM6Y8uZ",
        "outputId": "b21795d4-2e38-4899-d9ab-de1f61aaaf09"
      },
      "execution_count": null,
      "outputs": [
        {
          "output_type": "stream",
          "name": "stdout",
          "text": [
            "type a: <class 'int'> \n",
            "type b: <class 'str'>\n"
          ]
        }
      ]
    },
    {
      "cell_type": "code",
      "execution_count": null,
      "metadata": {
        "id": "E15x_LnB63-S",
        "colab": {
          "base_uri": "https://localhost:8080/"
        },
        "outputId": "39d268e3-bc2f-445b-a585-148ea7409611"
      },
      "outputs": [
        {
          "output_type": "stream",
          "name": "stdout",
          "text": [
            "1\n",
            "2\n",
            "2 1\n"
          ]
        }
      ],
      "source": [
        "#Take 2 num as input(like cin>> in C++) and swap them without using third variable\n",
        "num1=int(input())\n",
        "num2=int(input())\n",
        "num1,num2=num2,num1\n",
        "print(num1,num2)\n",
        "\n"
      ]
    },
    {
      "cell_type": "markdown",
      "source": [
        "Print <br> a. length of string <br> b. Indian Institute of Technology"
      ],
      "metadata": {
        "id": "KhUD-L7Ji0BV"
      }
    },
    {
      "cell_type": "code",
      "source": [
        "string='Indian Institute of Technology Bombay'\n",
        "\n",
        "print(len(string))\n",
        "print(string[:30])"
      ],
      "metadata": {
        "colab": {
          "base_uri": "https://localhost:8080/"
        },
        "id": "1SpnZujfb7Q0",
        "outputId": "058457d3-23dd-43e5-d93d-408957fcbeef"
      },
      "execution_count": null,
      "outputs": [
        {
          "output_type": "stream",
          "name": "stdout",
          "text": [
            "37\n",
            "Indian Institute of Technology\n"
          ]
        }
      ]
    },
    {
      "cell_type": "code",
      "source": [
        "List=[9,10,11,12,13,14,'a','b']\n",
        "#add 'c' & 5 to the list\n",
        "#remove 5th element from the list\n",
        "#print List elements from 2nd index to 7th\n"
      ],
      "metadata": {
        "id": "md-jGEigmzzQ",
        "colab": {
          "base_uri": "https://localhost:8080/"
        },
        "outputId": "b3e8b967-28f9-4e75-b74f-df813dafa6d4"
      },
      "execution_count": null,
      "outputs": [
        {
          "output_type": "stream",
          "name": "stdout",
          "text": [
            "[9, 10, 11, 12]\n"
          ]
        }
      ]
    },
    {
      "cell_type": "markdown",
      "source": [
        "Print <br>a. Hello (using x,y,z)<br>b. He#ll#o (use sep in python 😺) \n",
        "\n",
        "---\n",
        "\n"
      ],
      "metadata": {
        "id": "YfEjTYkbnvn1"
      }
    },
    {
      "cell_type": "code",
      "source": [
        "x='He'\n",
        "y='ll'\n",
        "z='o'\n",
        "\n",
        "#a\n",
        "print(x,y,z,sep='')\n",
        "#or\n",
        "print(x+y+z)\n",
        "\n",
        "#b\n",
        "print(x,y,z,sep='#')"
      ],
      "metadata": {
        "colab": {
          "base_uri": "https://localhost:8080/"
        },
        "id": "xclwoi47n94H",
        "outputId": "0534fc7d-36e7-455f-a4f6-adfe584a18dc"
      },
      "execution_count": null,
      "outputs": [
        {
          "output_type": "stream",
          "name": "stdout",
          "text": [
            "Hello\n",
            "Hello\n",
            "He#ll#o\n"
          ]
        }
      ]
    },
    {
      "cell_type": "markdown",
      "source": [
        "Create a list of tuples from given list having number and its cube in each tuple\n",
        "<br> eg Input: list = [1, 2, 3]<br> Output: [(1, 1), (2, 8), (3, 27)]"
      ],
      "metadata": {
        "id": "vm-RSJvX3zTG"
      }
    },
    {
      "cell_type": "code",
      "source": [
        "Input = [1, 2, 5, 6]\n",
        "Output = [(val, pow(val, 3)) for val in Input]\n",
        "print(Output)"
      ],
      "metadata": {
        "colab": {
          "base_uri": "https://localhost:8080/"
        },
        "id": "MDVkXfax3x9c",
        "outputId": "a78acad9-3441-454b-f16a-06475d6dc63a"
      },
      "execution_count": null,
      "outputs": [
        {
          "output_type": "stream",
          "name": "stdout",
          "text": [
            "[(1, 1), (2, 8), (5, 125), (6, 216)]\n"
          ]
        }
      ]
    },
    {
      "cell_type": "markdown",
      "source": [
        "Find the sum of all items in a dictionary <br>eg\n",
        "Input : {‘a’: 100, ‘b’:200, ‘c’:300}<br>\n",
        "Output : 600"
      ],
      "metadata": {
        "id": "yFTlfr1Dn9lX"
      }
    },
    {
      "cell_type": "code",
      "source": [
        "#Write a Python function that takes a list and returns a new list with unique elements of the first list\n",
        "def UniqueList(MyList):\n",
        "  UL = []\n",
        "  for i in MyList:\n",
        "    if i not in UL:\n",
        "      UL.append(i)\n",
        "  return UL\n",
        "\n",
        "My_List=[1,2,3,3,3,4,5,4,6,7,5] \n",
        "print(UniqueList(My_List))"
      ],
      "metadata": {
        "colab": {
          "base_uri": "https://localhost:8080/"
        },
        "id": "zQW95e6aXiXw",
        "outputId": "d20a62d9-d49a-461e-f79f-09971140e240"
      },
      "execution_count": null,
      "outputs": [
        {
          "output_type": "stream",
          "name": "stdout",
          "text": [
            "[1, 2, 3, 4, 5, 6, 7]\n"
          ]
        }
      ]
    },
    {
      "cell_type": "markdown",
      "source": [
        "Create a function giving max and min K elements in Tuple.<br> Input:(3, 7, 1, 18, 9), k = 2 <br>\n",
        "Output : (3, 1, 9, 18)\n"
      ],
      "metadata": {
        "id": "35_WZToXvSUL"
      }
    },
    {
      "cell_type": "markdown",
      "source": [
        "Create a list starting from 100 with elements less than 400 and difference between elements is 3 eg.[100,103,...,298]"
      ],
      "metadata": {
        "id": "B4-VMEwAxjzj"
      }
    },
    {
      "cell_type": "code",
      "source": [
        "My_List= []\n",
        "for i in range(100,300,3):\n",
        "   My_List.append(i)\n",
        "print(My_List)"
      ],
      "metadata": {
        "colab": {
          "base_uri": "https://localhost:8080/"
        },
        "id": "VNKtrkNquaVx",
        "outputId": "b2355607-32e4-4a88-8cf6-1e8b34dab1e8"
      },
      "execution_count": null,
      "outputs": [
        {
          "output_type": "stream",
          "name": "stdout",
          "text": [
            "[100, 103, 106, 109, 112, 115, 118, 121, 124, 127, 130, 133, 136, 139, 142, 145, 148, 151, 154, 157, 160, 163, 166, 169, 172, 175, 178, 181, 184, 187, 190, 193, 196, 199, 202, 205, 208, 211, 214, 217, 220, 223, 226, 229, 232, 235, 238, 241, 244, 247, 250, 253, 256, 259, 262, 265, 268, 271, 274, 277, 280, 283, 286, 289, 292, 295, 298]\n"
          ]
        }
      ]
    },
    {
      "cell_type": "markdown",
      "source": [
        "Write lambda function to multiply two num"
      ],
      "metadata": {
        "id": "2xxmvfwb_H2w"
      }
    },
    {
      "cell_type": "code",
      "source": [
        "z= lambda x,y: x*y\n",
        "print(z(2,3))"
      ],
      "metadata": {
        "colab": {
          "base_uri": "https://localhost:8080/"
        },
        "id": "z0fTR8jh94ma",
        "outputId": "be269948-c5b7-4372-9a6b-25f035e732b2"
      },
      "execution_count": null,
      "outputs": [
        {
          "output_type": "stream",
          "name": "stdout",
          "text": [
            "6\n"
          ]
        }
      ]
    },
    {
      "cell_type": "markdown",
      "source": [
        "Count the number of even and odd numbers in tuple."
      ],
      "metadata": {
        "id": "495zn3XAAmb-"
      }
    },
    {
      "cell_type": "code",
      "source": [
        "numbers = (1, 2, 3, 4, 5)\n",
        "count_odd = 0\n",
        "count_even = 0\n",
        "for x in numbers:\n",
        "        if not x % 2:\n",
        "    \t     count_even+=1\n",
        "        else:\n",
        "    \t     count_odd+=1\n",
        "print(\"Number of even numbers :\",count_even)\n",
        "print(\"Number of odd numbers :\",count_odd)"
      ],
      "metadata": {
        "colab": {
          "base_uri": "https://localhost:8080/"
        },
        "id": "COBTfKY-AlJt",
        "outputId": "1c2b20b5-0cd0-4984-fefe-ac35995f3eeb"
      },
      "execution_count": null,
      "outputs": [
        {
          "output_type": "stream",
          "name": "stdout",
          "text": [
            "Number of even numbers : 2\n",
            "Number of odd numbers : 3\n"
          ]
        }
      ]
    },
    {
      "cell_type": "markdown",
      "source": [
        "Write a Python program that prints all the numbers from 0 to 10 except 3,6 and 7.\n",
        "\n"
      ],
      "metadata": {
        "id": "5Y_mSg0QBDJq"
      }
    },
    {
      "cell_type": "code",
      "source": [
        "for x in range(10):\n",
        "    if (x == 3 or x==6 or x==7):\n",
        "        continue\n",
        "    print(x,end=' ')\n",
        "print(\"\\n\")"
      ],
      "metadata": {
        "colab": {
          "base_uri": "https://localhost:8080/"
        },
        "id": "JWeynBAtBX-8",
        "outputId": "9af88236-0671-4e87-f020-a2ace856561b"
      },
      "execution_count": null,
      "outputs": [
        {
          "output_type": "stream",
          "name": "stdout",
          "text": [
            "0 1 2 4 5 8 9 \n",
            "\n"
          ]
        }
      ]
    }
  ]
}